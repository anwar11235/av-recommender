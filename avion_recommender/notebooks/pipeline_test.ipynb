{
 "cells": [
  {
   "cell_type": "markdown",
   "id": "0191447c",
   "metadata": {},
   "source": [
    "\n",
    "# Avion Recommender System Test Pipeline\n",
    "\n",
    "This notebook demonstrates the complete pipeline of the Avion Recommender System, including:\n",
    "- Data generation\n",
    "- Feature engineering\n",
    "- Model training\n",
    "- Recommendation testing"
   ]
  },
  {
   "cell_type": "markdown",
   "id": "66defd35",
   "metadata": {},
   "source": [
    "\n",
    "## Setup and Installation\n",
    "\n",
    "Run these commands to set up the environment:"
   ]
  },
  {
   "cell_type": "code",
   "execution_count": null,
   "id": "efe36c37",
   "metadata": {},
   "outputs": [],
   "source": [
    "\n",
    "# !git clone https://github.com/anwar11235/av-recommender.git\n",
    "# %cd av-recommender\n",
    "# !pip install -r requirements.txt\n"
   ]
  },
  {
   "cell_type": "markdown",
   "id": "e7b3357f",
   "metadata": {},
   "source": [
    "\n",
    "## Import Libraries\n",
    "\n",
    "Import required packages and custom modules:"
   ]
  },
  {
   "cell_type": "code",
   "execution_count": null,
   "id": "11e8fe43",
   "metadata": {},
   "outputs": [],
   "source": [
    "\n",
    "import sys\n",
    "sys.path.append('/content/av-recommender')\n",
    "\n",
    "from avion_recommender.data.synthetic_data_generator import SyntheticDataGenerator\n",
    "from avion_recommender.utils.feature_engineering import FeatureEngineer\n",
    "from avion_recommender.utils.feature_selector import FeatureSelector\n",
    "from avion_recommender.models.base_recommender import BaseRecommender\n",
    "\n",
    "import pandas as pd\n",
    "import numpy as np\n",
    "import matplotlib.pyplot as plt\n",
    "import seaborn as sns\n"
   ]
  },
  {
   "cell_type": "markdown",
   "id": "dee9932b",
   "metadata": {},
   "source": [
    "\n",
    "## Generate Synthetic Data\n",
    "\n",
    "Create synthetic data for testing the recommender system:"
   ]
  },
  {
   "cell_type": "code",
   "execution_count": null,
   "id": "fef2f395",
   "metadata": {},
   "outputs": [],
   "source": [
    "\n",
    "def main():\n",
    "    # Generate synthetic data\n",
    "    print(\"Generating synthetic data...\")\n",
    "    generator = SyntheticDataGenerator(\n",
    "        n_users=1000,\n",
    "        n_offers_mop=100,\n",
    "        n_offers_wildfire=100,\n",
    "        n_interactions=10000\n",
    "    )\n",
    "\n",
    "    demographics, transactions, offers, interactions = generator.generate_all_data()\n",
    "\n",
    "    print(\"Data generated successfully!\")\n",
    "    print(f\"Users: {len(demographics)}\")\n",
    "    print(f\"Transactions: {len(transactions)}\")\n",
    "    print(f\"Offers: {len(offers)}\")\n",
    "    print(f\"Interactions: {len(interactions)}\")\n"
   ]
  },
  {
   "cell_type": "markdown",
   "id": "3071e9a7",
   "metadata": {},
   "source": [
    "\n",
    "    ## Feature Engineering\n",
    "    \n",
    "    Engineer features for users and offers:"
   ]
  },
  {
   "cell_type": "code",
   "execution_count": null,
   "id": "736bb755",
   "metadata": {},
   "outputs": [],
   "source": [
    "\n",
    "    print(\"\\nEngineering features...\")\n",
    "    feature_engineer = FeatureEngineer()\n",
    "\n",
    "    user_features = feature_engineer.engineer_user_features(\n",
    "        demographics=demographics,\n",
    "        transactions=transactions,\n",
    "        ga4_events=pd.DataFrame(),\n",
    "        loyalty_data=demographics[['loyalty_tier']]\n",
    "    )\n",
    "\n",
    "    offer_features = feature_engineer.engineer_offer_features(\n",
    "        mop_offers=offers[offers['source'] == 'MOP'],\n",
    "        wildfire_offers=offers[offers['source'] == 'WILDFIRE']\n",
    "    )\n",
    "\n",
    "    print(\"Features engineered successfully!\")\n",
    "    print(\"\\nUser features:\")\n",
    "    print(user_features.head())\n",
    "    print(\"\\nOffer features:\")\n",
    "    print(offer_features.head())\n"
   ]
  },
  {
   "cell_type": "markdown",
   "id": "e8805f4a",
   "metadata": {},
   "source": [
    "\n",
    "    ## Train Recommender Model\n",
    "    \n",
    "    Create interaction matrix and train the recommender model:"
   ]
  },
  {
   "cell_type": "code",
   "execution_count": null,
   "id": "f28bb5ac",
   "metadata": {},
   "outputs": [],
   "source": [
    "\n",
    "    print(\"\\nTraining recommender model...\")\n",
    "    recommender = BaseRecommender()\n",
    "\n",
    "    # Create interaction matrix\n",
    "    user_ids = list(demographics.index)\n",
    "    offer_ids = list(offers.index)\n",
    "    interaction_matrix = np.zeros((len(user_ids), len(offer_ids)))\n",
    "\n",
    "    for _, interaction in interactions.iterrows():\n",
    "        user_idx = user_ids.index(interaction['user_id'])\n",
    "        offer_idx = offer_ids.index(interaction['offer_id'])\n",
    "        interaction_matrix[user_idx, offer_idx] += 1\n",
    "\n",
    "    # Fit model\n",
    "    recommender.fit(\n",
    "        user_features=user_features,\n",
    "        offer_features=offer_features,\n",
    "        interaction_matrix=interaction_matrix\n",
    "    )\n",
    "\n",
    "    print(\"Model trained successfully!\")\n"
   ]
  },
  {
   "cell_type": "markdown",
   "id": "841a7789",
   "metadata": {},
   "source": [
    "\n",
    "    ## Test Recommendations\n",
    "    \n",
    "    Test both regular and cold start recommendations:"
   ]
  },
  {
   "cell_type": "code",
   "execution_count": null,
   "id": "5fb778aa",
   "metadata": {},
   "outputs": [],
   "source": [
    "\n",
    "    print(\"\\nTesting recommendations...\")\n",
    "    test_user_id = user_ids[0]\n",
    "\n",
    "    # Regular recommendations\n",
    "    recommendations = recommender.get_recommendations(\n",
    "        user_id=test_user_id,\n",
    "        n_recommendations=5\n",
    "    )\n",
    "    print(\"Regular recommendations:\")\n",
    "    print(recommendations)\n",
    "\n",
    "    # Cold start recommendations\n",
    "    new_user = {\n",
    "        'user_id': 'NEW_USER',\n",
    "        'age_group': '26-35',\n",
    "        'location': 'NYC',\n",
    "        'gender': 'M'\n",
    "    }\n",
    "    cold_start_recs = recommender.handle_cold_start(new_user)\n",
    "    print(\"\\nCold start recommendations:\")\n",
    "    print(cold_start_recs)\n",
    "\n",
    "if __name__ == \"__main__\":\n",
    "    main() "
   ]
  }
 ],
 "metadata": {},
 "nbformat": 4,
 "nbformat_minor": 5
}
